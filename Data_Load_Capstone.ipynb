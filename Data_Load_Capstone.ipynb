{
 "cells": [
  {
   "cell_type": "code",
   "execution_count": 1,
   "metadata": {
    "collapsed": true
   },
   "outputs": [],
   "source": [
    "import numpy as np\n",
    "import pandas as pd"
   ]
  },
  {
   "cell_type": "code",
   "execution_count": 2,
   "outputs": [],
   "source": [
    "poke_df = pd.read_csv('pokemon.csv')"
   ],
   "metadata": {
    "collapsed": false
   }
  },
  {
   "cell_type": "code",
   "execution_count": 3,
   "outputs": [],
   "source": [
    "battle_df = pd.read_csv('combats.csv')"
   ],
   "metadata": {
    "collapsed": false
   }
  },
  {
   "cell_type": "code",
   "execution_count": null,
   "outputs": [],
   "source": [
    "poke_df.head()"
   ],
   "metadata": {
    "collapsed": false,
    "pycharm": {
     "is_executing": true
    }
   }
  },
  {
   "cell_type": "code",
   "execution_count": null,
   "outputs": [],
   "source": [
    "battle_df.head()\n",
    "##can see we may wish to create column representing whether or not the first pokemon won the battle, to use as a feature column\n",
    "##(this comes later)"
   ],
   "metadata": {
    "collapsed": false,
    "pycharm": {
     "is_executing": true
    }
   }
  },
  {
   "cell_type": "code",
   "execution_count": 4,
   "outputs": [],
   "source": [
    "poke_working = poke_df.copy()\n",
    "battle_working = battle_df.copy()\n",
    "##creating copies to avoid losing data to mistakes later down the line"
   ],
   "metadata": {
    "collapsed": false
   }
  },
  {
   "cell_type": "code",
   "execution_count": 5,
   "outputs": [],
   "source": [
    "battle_working = pd.merge(battle_working, poke_working.add_prefix('0_'), left_on='First_pokemon', right_on='0_#')\n",
    "battle_working = pd.merge(battle_working, poke_working.add_prefix('1_'), left_on='Second_pokemon', right_on='1_#')\n",
    "##merging the stats of the pokemon (poke_working) with the pokemon who took place in battle (battle_working)\n",
    "##used prefixes to identify which statistics coincide with which pokemon in the battle where 0 represents the first and 1 represents the second\n",
    "##left with some unnecessary columns now i.e. 0_# and 1_# which are copies of First_pokemon and Second_pokemon -- will deal with this later"
   ],
   "metadata": {
    "collapsed": false
   }
  },
  {
   "cell_type": "code",
   "execution_count": 6,
   "outputs": [
    {
     "data": {
      "text/plain": "   First_pokemon  Second_pokemon  Winner  0_#     0_Name  0_Type 1 0_Type 2  \\\n0            266             298     298  266   Larvitar      Rock   Ground   \n1             73             298     298   73     Machop  Fighting      NaN   \n2            373             298     298  373   Whiscash     Water   Ground   \n3            536             298     536  536  Fan Rotom  Electric   Flying   \n4            368             298     368  368   Zangoose    Normal      NaN   \n\n   0_HP  0_Attack  0_Defense  ...  1_Type 1  1_Type 2  1_HP  1_Attack  \\\n0    50        64         50  ...     Grass      Dark    70        70   \n1    70        80         50  ...     Grass      Dark    70        70   \n2   110        78         73  ...     Grass      Dark    70        70   \n3    50        65        107  ...     Grass      Dark    70        70   \n4    73       115         60  ...     Grass      Dark    70        70   \n\n   1_Defense  1_Sp. Atk 1_Sp. Def 1_Speed 1_Generation  1_Legendary  \n0         40         60        40      60            3        False  \n1         40         60        40      60            3        False  \n2         40         60        40      60            3        False  \n3         40         60        40      60            3        False  \n4         40         60        40      60            3        False  \n\n[5 rows x 27 columns]",
      "text/html": "<div>\n<style scoped>\n    .dataframe tbody tr th:only-of-type {\n        vertical-align: middle;\n    }\n\n    .dataframe tbody tr th {\n        vertical-align: top;\n    }\n\n    .dataframe thead th {\n        text-align: right;\n    }\n</style>\n<table border=\"1\" class=\"dataframe\">\n  <thead>\n    <tr style=\"text-align: right;\">\n      <th></th>\n      <th>First_pokemon</th>\n      <th>Second_pokemon</th>\n      <th>Winner</th>\n      <th>0_#</th>\n      <th>0_Name</th>\n      <th>0_Type 1</th>\n      <th>0_Type 2</th>\n      <th>0_HP</th>\n      <th>0_Attack</th>\n      <th>0_Defense</th>\n      <th>...</th>\n      <th>1_Type 1</th>\n      <th>1_Type 2</th>\n      <th>1_HP</th>\n      <th>1_Attack</th>\n      <th>1_Defense</th>\n      <th>1_Sp. Atk</th>\n      <th>1_Sp. Def</th>\n      <th>1_Speed</th>\n      <th>1_Generation</th>\n      <th>1_Legendary</th>\n    </tr>\n  </thead>\n  <tbody>\n    <tr>\n      <th>0</th>\n      <td>266</td>\n      <td>298</td>\n      <td>298</td>\n      <td>266</td>\n      <td>Larvitar</td>\n      <td>Rock</td>\n      <td>Ground</td>\n      <td>50</td>\n      <td>64</td>\n      <td>50</td>\n      <td>...</td>\n      <td>Grass</td>\n      <td>Dark</td>\n      <td>70</td>\n      <td>70</td>\n      <td>40</td>\n      <td>60</td>\n      <td>40</td>\n      <td>60</td>\n      <td>3</td>\n      <td>False</td>\n    </tr>\n    <tr>\n      <th>1</th>\n      <td>73</td>\n      <td>298</td>\n      <td>298</td>\n      <td>73</td>\n      <td>Machop</td>\n      <td>Fighting</td>\n      <td>NaN</td>\n      <td>70</td>\n      <td>80</td>\n      <td>50</td>\n      <td>...</td>\n      <td>Grass</td>\n      <td>Dark</td>\n      <td>70</td>\n      <td>70</td>\n      <td>40</td>\n      <td>60</td>\n      <td>40</td>\n      <td>60</td>\n      <td>3</td>\n      <td>False</td>\n    </tr>\n    <tr>\n      <th>2</th>\n      <td>373</td>\n      <td>298</td>\n      <td>298</td>\n      <td>373</td>\n      <td>Whiscash</td>\n      <td>Water</td>\n      <td>Ground</td>\n      <td>110</td>\n      <td>78</td>\n      <td>73</td>\n      <td>...</td>\n      <td>Grass</td>\n      <td>Dark</td>\n      <td>70</td>\n      <td>70</td>\n      <td>40</td>\n      <td>60</td>\n      <td>40</td>\n      <td>60</td>\n      <td>3</td>\n      <td>False</td>\n    </tr>\n    <tr>\n      <th>3</th>\n      <td>536</td>\n      <td>298</td>\n      <td>536</td>\n      <td>536</td>\n      <td>Fan Rotom</td>\n      <td>Electric</td>\n      <td>Flying</td>\n      <td>50</td>\n      <td>65</td>\n      <td>107</td>\n      <td>...</td>\n      <td>Grass</td>\n      <td>Dark</td>\n      <td>70</td>\n      <td>70</td>\n      <td>40</td>\n      <td>60</td>\n      <td>40</td>\n      <td>60</td>\n      <td>3</td>\n      <td>False</td>\n    </tr>\n    <tr>\n      <th>4</th>\n      <td>368</td>\n      <td>298</td>\n      <td>368</td>\n      <td>368</td>\n      <td>Zangoose</td>\n      <td>Normal</td>\n      <td>NaN</td>\n      <td>73</td>\n      <td>115</td>\n      <td>60</td>\n      <td>...</td>\n      <td>Grass</td>\n      <td>Dark</td>\n      <td>70</td>\n      <td>70</td>\n      <td>40</td>\n      <td>60</td>\n      <td>40</td>\n      <td>60</td>\n      <td>3</td>\n      <td>False</td>\n    </tr>\n  </tbody>\n</table>\n<p>5 rows × 27 columns</p>\n</div>"
     },
     "execution_count": 6,
     "metadata": {},
     "output_type": "execute_result"
    }
   ],
   "source": [
    "battle_working.head()"
   ],
   "metadata": {
    "collapsed": false
   }
  },
  {
   "cell_type": "code",
   "execution_count": 19,
   "outputs": [],
   "source": [
    "#battle_working.to_csv('battle_stats_combined.csv')\n",
    "##exporting combined dataframe produced above for ease of use in future"
   ],
   "metadata": {
    "collapsed": false
   }
  },
  {
   "cell_type": "markdown",
   "source": [
    "## Cleaning & Exploring"
   ],
   "metadata": {
    "collapsed": false
   }
  },
  {
   "cell_type": "code",
   "execution_count": 8,
   "outputs": [],
   "source": [
    "##remove duplicate identifiers\n",
    "battle_working.drop(columns=['0_#', '1_#'], inplace=True)"
   ],
   "metadata": {
    "collapsed": false
   }
  },
  {
   "cell_type": "code",
   "execution_count": 11,
   "outputs": [
    {
     "data": {
      "text/plain": "First_pokemon         0\nSecond_pokemon        0\nWinner                0\n0_Name               56\n0_Type 1              0\n0_Type 2          24031\n0_HP                  0\n0_Attack              0\n0_Defense             0\n0_Sp. Atk             0\n0_Sp. Def             0\n0_Speed               0\n0_Generation          0\n0_Legendary           0\n1_Name               52\n1_Type 1              0\n1_Type 2          23985\n1_HP                  0\n1_Attack              0\n1_Defense             0\n1_Sp. Atk             0\n1_Sp. Def             0\n1_Speed               0\n1_Generation          0\n1_Legendary           0\ndtype: int64"
     },
     "execution_count": 11,
     "metadata": {},
     "output_type": "execute_result"
    }
   ],
   "source": [
    "battle_working.isna().sum()\n",
    "##null values seem to be mainly in type 2, this is not a missing value but simply that the pokemon in question has only one type\n",
    "##will replace these nulls with simply 'no' for now"
   ],
   "metadata": {
    "collapsed": false
   }
  },
  {
   "cell_type": "code",
   "execution_count": 16,
   "outputs": [
    {
     "data": {
      "text/plain": "Empty DataFrame\nColumns: [First_pokemon, Second_pokemon, Winner, 0_Name, 0_Type 1, 0_Type 2, 0_HP, 0_Attack, 0_Defense, 0_Sp. Atk, 0_Sp. Def, 0_Speed, 0_Generation, 0_Legendary, 1_Name, 1_Type 1, 1_Type 2, 1_HP, 1_Attack, 1_Defense, 1_Sp. Atk, 1_Sp. Def, 1_Speed, 1_Generation, 1_Legendary]\nIndex: []\n\n[0 rows x 25 columns]",
      "text/html": "<div>\n<style scoped>\n    .dataframe tbody tr th:only-of-type {\n        vertical-align: middle;\n    }\n\n    .dataframe tbody tr th {\n        vertical-align: top;\n    }\n\n    .dataframe thead th {\n        text-align: right;\n    }\n</style>\n<table border=\"1\" class=\"dataframe\">\n  <thead>\n    <tr style=\"text-align: right;\">\n      <th></th>\n      <th>First_pokemon</th>\n      <th>Second_pokemon</th>\n      <th>Winner</th>\n      <th>0_Name</th>\n      <th>0_Type 1</th>\n      <th>0_Type 2</th>\n      <th>0_HP</th>\n      <th>0_Attack</th>\n      <th>0_Defense</th>\n      <th>0_Sp. Atk</th>\n      <th>...</th>\n      <th>1_Type 1</th>\n      <th>1_Type 2</th>\n      <th>1_HP</th>\n      <th>1_Attack</th>\n      <th>1_Defense</th>\n      <th>1_Sp. Atk</th>\n      <th>1_Sp. Def</th>\n      <th>1_Speed</th>\n      <th>1_Generation</th>\n      <th>1_Legendary</th>\n    </tr>\n  </thead>\n  <tbody>\n  </tbody>\n</table>\n<p>0 rows × 25 columns</p>\n</div>"
     },
     "execution_count": 16,
     "metadata": {},
     "output_type": "execute_result"
    }
   ],
   "source": [
    "battle_working[battle_working['0_Name'] == '']"
   ],
   "metadata": {
    "collapsed": false
   }
  },
  {
   "cell_type": "code",
   "execution_count": null,
   "outputs": [],
   "source": [],
   "metadata": {
    "collapsed": false
   }
  }
 ],
 "metadata": {
  "kernelspec": {
   "display_name": "Python 3",
   "language": "python",
   "name": "python3"
  },
  "language_info": {
   "codemirror_mode": {
    "name": "ipython",
    "version": 2
   },
   "file_extension": ".py",
   "mimetype": "text/x-python",
   "name": "python",
   "nbconvert_exporter": "python",
   "pygments_lexer": "ipython2",
   "version": "2.7.6"
  }
 },
 "nbformat": 4,
 "nbformat_minor": 0
}
